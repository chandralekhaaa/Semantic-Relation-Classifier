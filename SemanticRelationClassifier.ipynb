{
  "cells": [
    {
      "cell_type": "code",
      "execution_count": 2,
      "metadata": {
        "colab": {
          "base_uri": "https://localhost:8080/"
        },
        "id": "EKSD7nzkxA3f",
        "outputId": "45fdd44a-345a-47d2-9c79-44360c893ed3"
      },
      "outputs": [
        {
          "output_type": "stream",
          "name": "stdout",
          "text": [
            "Archive:  /content/dataset.zip\n",
            "replace SemEval2010_task8_all_data/SemEval2010_task8_scorer-v1.2/answer_key1.txt? [y]es, [n]o, [A]ll, [N]one, [r]ename: A\n",
            "  inflating: SemEval2010_task8_all_data/SemEval2010_task8_scorer-v1.2/answer_key1.txt  \n",
            "  inflating: SemEval2010_task8_all_data/SemEval2010_task8_scorer-v1.2/answer_key2.txt  \n",
            "  inflating: SemEval2010_task8_all_data/SemEval2010_task8_scorer-v1.2/answer_key3.txt  \n",
            "  inflating: SemEval2010_task8_all_data/SemEval2010_task8_scorer-v1.2/answer_key5.txt  \n",
            "  inflating: SemEval2010_task8_all_data/SemEval2010_task8_scorer-v1.2/proposed_answer1.txt  \n",
            "  inflating: SemEval2010_task8_all_data/SemEval2010_task8_scorer-v1.2/proposed_answer2.txt  \n",
            "  inflating: SemEval2010_task8_all_data/SemEval2010_task8_scorer-v1.2/proposed_answer3.txt  \n",
            "  inflating: SemEval2010_task8_all_data/SemEval2010_task8_scorer-v1.2/proposed_answer4.txt  \n",
            "  inflating: SemEval2010_task8_all_data/SemEval2010_task8_scorer-v1.2/proposed_answer5.txt  \n",
            "  inflating: SemEval2010_task8_all_data/SemEval2010_task8_scorer-v1.2/README.txt  \n",
            "  inflating: SemEval2010_task8_all_data/SemEval2010_task8_scorer-v1.2/result_scores1.txt  \n",
            "  inflating: SemEval2010_task8_all_data/SemEval2010_task8_scorer-v1.2/result_scores2.txt  \n",
            "  inflating: SemEval2010_task8_all_data/SemEval2010_task8_scorer-v1.2/result_scores3.txt  \n",
            "  inflating: SemEval2010_task8_all_data/SemEval2010_task8_scorer-v1.2/result_scores5.txt  \n",
            "  inflating: SemEval2010_task8_all_data/SemEval2010_task8_scorer-v1.2/semeval2010_task8_format_checker.pl  \n",
            "  inflating: SemEval2010_task8_all_data/SemEval2010_task8_scorer-v1.2/semeval2010_task8_scorer-v1.2.pl  \n",
            "  inflating: SemEval2010_task8_all_data/SemEval2010_task8_testing/README.txt  \n",
            "  inflating: SemEval2010_task8_all_data/SemEval2010_task8_testing/TEST_FILE.txt  \n",
            "  inflating: SemEval2010_task8_all_data/SemEval2010_task8_testing_keys/TEST_FILE_CLEAN.TXT  \n",
            "  inflating: SemEval2010_task8_all_data/SemEval2010_task8_testing_keys/TEST_FILE_FULL.TXT  \n",
            "  inflating: SemEval2010_task8_all_data/SemEval2010_task8_testing_keys/TEST_FILE_KEY.TXT  \n",
            "  inflating: SemEval2010_task8_all_data/SemEval2010_task8_training/README.txt  \n",
            "  inflating: SemEval2010_task8_all_data/SemEval2010_task8_training/Task8_Guidelines.pdf  \n",
            "  inflating: SemEval2010_task8_all_data/SemEval2010_task8_training/Task8_Relation1.pdf  \n",
            "  inflating: SemEval2010_task8_all_data/SemEval2010_task8_training/Task8_Relation2.pdf  \n",
            "  inflating: SemEval2010_task8_all_data/SemEval2010_task8_training/Task8_Relation3.pdf  \n",
            "  inflating: SemEval2010_task8_all_data/SemEval2010_task8_training/Task8_Relation4.pdf  \n",
            "  inflating: SemEval2010_task8_all_data/SemEval2010_task8_training/Task8_Relation5.pdf  \n",
            "  inflating: SemEval2010_task8_all_data/SemEval2010_task8_training/Task8_Relation6.pdf  \n",
            "  inflating: SemEval2010_task8_all_data/SemEval2010_task8_training/Task8_Relation7.pdf  \n",
            "  inflating: SemEval2010_task8_all_data/SemEval2010_task8_training/Task8_Relation8.pdf  \n",
            "  inflating: SemEval2010_task8_all_data/SemEval2010_task8_training/Task8_Relation9.pdf  \n",
            "  inflating: SemEval2010_task8_all_data/SemEval2010_task8_training/TRAIN_DISTRIB.TXT  \n",
            "  inflating: SemEval2010_task8_all_data/SemEval2010_task8_training/TRAIN_FILE.TXT  \n",
            "  inflating: SemEval2010_task8_all_data/SemEval2010_task8_training/TRAIN_TEST_DISTRIB.TXT  \n",
            "  inflating: SemEval2010_task8_all_data/SEMEVAL_TASK8_FULL_RELEASE_README.txt  \n"
          ]
        }
      ],
      "source": [
        "!unzip \"/content/dataset.zip\""
      ]
    },
    {
      "cell_type": "code",
      "execution_count": 3,
      "metadata": {
        "id": "JqtGIlAHwv7Y"
      },
      "outputs": [],
      "source": [
        "import re\n",
        "import csv"
      ]
    },
    {
      "cell_type": "code",
      "execution_count": 4,
      "metadata": {
        "id": "AYnAjIcKw9w-"
      },
      "outputs": [],
      "source": [
        "training_data_filepath = \"/content/SemEval2010_task8_all_data/SemEval2010_task8_training/TRAIN_FILE.TXT\"\n",
        "testing_data_filepath = \"/content/SemEval2010_task8_all_data/SemEval2010_task8_testing_keys/TEST_FILE_FULL.TXT\""
      ]
    },
    {
      "cell_type": "code",
      "execution_count": 5,
      "metadata": {
        "id": "Xn4FU-DVxX8F"
      },
      "outputs": [],
      "source": [
        "def read_data_from_file(filepath):\n",
        "  data = []\n",
        "  with open(filepath, 'r') as file:\n",
        "    lines = file.readlines()\n",
        "    for line in lines:\n",
        "      line = line.strip()\n",
        "      if line:\n",
        "        data.append(line)\n",
        "  return data\n",
        "\n",
        "training_data = read_data_from_file(training_data_filepath)\n",
        "testing_data = read_data_from_file(testing_data_filepath)\n"
      ]
    },
    {
      "cell_type": "code",
      "execution_count": 6,
      "metadata": {
        "id": "lgugrfIKzss2"
      },
      "outputs": [],
      "source": [
        "def preprocess_data(data):\n",
        "  processed_data = []\n",
        "  for line in data:\n",
        "    processed_data.append(line.split('|'))\n",
        "  for line in processed_data:\n",
        "    if re.findall(r\"^Comment\", line[0]):\n",
        "      processed_data.remove(line)\n",
        "  sentences = []\n",
        "  relations = []\n",
        "  for i in range(len(processed_data)):\n",
        "    if i%2 == 0:\n",
        "      sentences.append(processed_data[i])\n",
        "    else:\n",
        "      relations.append(processed_data[i])\n",
        "  #sentences\n",
        "  processed_sentences = []\n",
        "  for sentence in sentences:\n",
        "    #removing the number in front of the sentence    \n",
        "    sentence[0] = re.sub(r\"\\d+\\t\", '',sentence[0])\n",
        "    #removing double quotes\n",
        "    sentence[0] = re.sub('\"', \"\", sentence[0])\n",
        "    #removing entity indicators\n",
        "    sentence[0] = re.sub(r\"<e1>|<e2>|</e1>|</e2>\", \"\", sentence[0])\n",
        "    processed_sentences.append(sentence[0])\n",
        "  #encoding relations\n",
        "  encoded_relations = []\n",
        "  encoding = {\"Cause-Effect\": 0, \"Component-Whole\": 1, \"Product-Producer\": 2, \"Other\": 3}\n",
        "  for relation in relations:\n",
        "    if \"Cause-Effect\" in relation[0]:\n",
        "      encoded_relations.append(0)\n",
        "    elif \"Component-Whole\" in relation[0]:\n",
        "      encoded_relations.append(1)\n",
        "    elif \"Product-Producer\" in relation[0]:\n",
        "      encoded_relations.append(2)\n",
        "    else:\n",
        "      encoded_relations.append(3)\n",
        "  return processed_sentences, encoded_relations\n",
        "\n",
        "corpus, labels = preprocess_data(training_data)\n",
        "testing_corpus, testing_labels = preprocess_data(testing_data)"
      ]
    },
    {
      "cell_type": "code",
      "execution_count": 7,
      "metadata": {
        "colab": {
          "base_uri": "https://localhost:8080/"
        },
        "id": "7GlcaAlAuC_7",
        "outputId": "839af0fd-8cd3-472a-e499-6298eb6b3ba7"
      },
      "outputs": [
        {
          "output_type": "stream",
          "name": "stdout",
          "text": [
            "Data Statistics\n",
            "Cause-Effect :  12.537499999999998 %Component-Whole :  11.7625 %Product-Producer :  8.9625 %Other :  66.73750000000001 %"
          ]
        }
      ],
      "source": [
        "print(\"Data Statistics\")\n",
        "frequency_of_labels = {\"Cause-Effect\": 0, \"Component-Whole\": 0, \"Product-Producer\": 0, \"Other\": 0}\n",
        "for label in labels:\n",
        "  if label == 0:\n",
        "    frequency_of_labels[\"Cause-Effect\"]+=1\n",
        "  elif label == 1:\n",
        "    frequency_of_labels[\"Component-Whole\"]+=1\n",
        "  elif label == 2:\n",
        "    frequency_of_labels[\"Product-Producer\"]+=1\n",
        "  else:\n",
        "    frequency_of_labels[\"Other\"]+=1\n",
        "\n",
        "for label in frequency_of_labels.keys():\n",
        "  print(label, \": \", (frequency_of_labels[label]/len(labels))*100, \"%\\n\", end=\"\")"
      ]
    },
    {
      "cell_type": "code",
      "execution_count": 8,
      "metadata": {
        "id": "bjsL-rTymq-4"
      },
      "outputs": [],
      "source": [
        "from sklearn.feature_extraction.text import CountVectorizer\n",
        "vectorizer = CountVectorizer(max_features=5000)\n",
        "X = vectorizer.fit_transform(corpus)\n",
        "X = X.toarray()"
      ]
    },
    {
      "cell_type": "code",
      "execution_count": 9,
      "metadata": {
        "colab": {
          "base_uri": "https://localhost:8080/"
        },
        "id": "dxR9-Yk38c9z",
        "outputId": "c1989dd1-c771-47e9-c6f9-f542527e9438"
      },
      "outputs": [
        {
          "metadata": {
            "tags": null
          },
          "name": "stdout",
          "output_type": "stream",
          "text": [
            "Fitting 4 folds for each of 4 candidates, totalling 16 fits\n",
            "[CV 1/4] END C=1, decision_function_shape=ovo, kernel=linear;, score=0.765 total time= 1.9min\n",
            "[CV 2/4] END C=1, decision_function_shape=ovo, kernel=linear;, score=0.775 total time= 1.8min\n",
            "[CV 3/4] END C=1, decision_function_shape=ovo, kernel=linear;, score=0.759 total time= 1.9min\n",
            "[CV 4/4] END C=1, decision_function_shape=ovo, kernel=linear;, score=0.684 total time= 1.7min\n",
            "[CV 1/4] END C=1, decision_function_shape=ovo, kernel=rbf;, score=0.745 total time= 3.0min\n",
            "[CV 2/4] END C=1, decision_function_shape=ovo, kernel=rbf;, score=0.741 total time= 3.0min\n",
            "[CV 3/4] END C=1, decision_function_shape=ovo, kernel=rbf;, score=0.744 total time= 3.0min\n",
            "[CV 4/4] END C=1, decision_function_shape=ovo, kernel=rbf;, score=0.693 total time= 2.9min\n",
            "[CV 1/4] END C=10, decision_function_shape=ovo, kernel=linear;, score=0.750 total time= 1.8min\n",
            "[CV 2/4] END C=10, decision_function_shape=ovo, kernel=linear;, score=0.758 total time= 1.8min\n",
            "[CV 3/4] END C=10, decision_function_shape=ovo, kernel=linear;, score=0.735 total time= 1.8min\n",
            "[CV 4/4] END C=10, decision_function_shape=ovo, kernel=linear;, score=0.674 total time= 1.7min\n",
            "[CV 1/4] END C=10, decision_function_shape=ovo, kernel=rbf;, score=0.784 total time= 3.9min\n",
            "[CV 2/4] END C=10, decision_function_shape=ovo, kernel=rbf;, score=0.788 total time= 3.8min\n",
            "[CV 3/4] END C=10, decision_function_shape=ovo, kernel=rbf;, score=0.786 total time= 3.8min\n",
            "[CV 4/4] END C=10, decision_function_shape=ovo, kernel=rbf;, score=0.720 total time= 3.7min\n"
          ]
        },
        {
          "output_type": "execute_result",
          "data": {
            "text/plain": [
              "GridSearchCV(cv=4, estimator=SVC(),\n",
              "             param_grid={'C': [1, 10], 'decision_function_shape': ['ovo'],\n",
              "                         'kernel': ['linear', 'rbf']},\n",
              "             verbose=3)"
            ]
          },
          "metadata": {},
          "execution_count": 9
        }
      ],
      "source": [
        "from sklearn.svm import SVC\n",
        "from sklearn.model_selection import GridSearchCV\n",
        "import numpy as np\n",
        "parameters =  {'kernel':['linear', 'rbf'], 'C':[1, 10], 'decision_function_shape': ['ovo']}\n",
        "model = GridSearchCV(SVC(), parameters, verbose = 3, cv = 4)\n",
        "model.fit(X, labels)"
      ]
    },
    {
      "cell_type": "code",
      "execution_count": 11,
      "metadata": {
        "colab": {
          "base_uri": "https://localhost:8080/"
        },
        "id": "xbh3rhL78YTJ",
        "outputId": "858c657c-0248-4531-a379-181e296bcede"
      },
      "outputs": [
        {
          "output_type": "stream",
          "name": "stdout",
          "text": [
            "                  precision    recall  f1-score   support\n",
            "\n",
            "    Cause-Effect       0.00      0.00      0.00       328\n",
            " Component-Whole       0.33      0.01      0.02       312\n",
            "Product-Producer       0.14      0.00      0.01       231\n",
            "           Other       0.68      0.99      0.81      1846\n",
            "\n",
            "        accuracy                           0.68      2717\n",
            "       macro avg       0.29      0.25      0.21      2717\n",
            "    weighted avg       0.51      0.68      0.55      2717\n",
            "\n"
          ]
        }
      ],
      "source": [
        "from sklearn.metrics import classification_report\n",
        "X_test = vectorizer.fit_transform(testing_corpus)\n",
        "X_test = X_test.toarray()\n",
        "prediction = model.predict(X_test)\n",
        "target_names = [\"Cause-Effect\", \"Component-Whole\", \"Product-Producer\", \"Other\"]\n",
        "print(classification_report(testing_labels, prediction, target_names = target_names))"
      ]
    }
  ],
  "metadata": {
    "accelerator": "GPU",
    "colab": {
      "provenance": []
    },
    "gpuClass": "standard",
    "kernelspec": {
      "display_name": "Python 3",
      "name": "python3"
    },
    "language_info": {
      "name": "python"
    }
  },
  "nbformat": 4,
  "nbformat_minor": 0
}